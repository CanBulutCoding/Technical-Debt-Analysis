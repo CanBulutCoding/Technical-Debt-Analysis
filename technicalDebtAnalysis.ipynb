{
  "nbformat": 4,
  "nbformat_minor": 0,
  "metadata": {
    "colab": {
      "name": "assignment5.ipynb",
      "provenance": [],
      "collapsed_sections": [],
      "toc_visible": true
    },
    "kernelspec": {
      "display_name": "Python 3",
      "language": "python",
      "name": "python3"
    },
    "language_info": {
      "codemirror_mode": {
        "name": "ipython",
        "version": 3
      },
      "file_extension": ".py",
      "mimetype": "text/x-python",
      "name": "python",
      "nbconvert_exporter": "python",
      "pygments_lexer": "ipython3",
      "version": "3.6.9-final"
    }
  },
  "cells": [
    {
      "cell_type": "code",
      "metadata": {
        "id": "tOclu9iqZaI4"
      },
      "source": [
        "import numpy as np\n",
        "import matplotlib.pyplot as plt\n",
        "import pandas as pd\n",
        "import seaborn as sns\n",
        "from scipy.stats import spearmanr\n",
        "from sklearn.preprocessing import LabelEncoder,MinMaxScaler,PolynomialFeatures\n",
        "from sklearn.model_selection import train_test_split\n",
        "from sklearn.neighbors import KNeighborsClassifier\n",
        "from sklearn.metrics import confusion_matrix,classification_report,mean_squared_error, r2_score\n",
        "from sklearn.linear_model import LinearRegression"
      ],
      "execution_count": 1,
      "outputs": []
    },
    {
      "cell_type": "code",
      "metadata": {
        "id": "ibCOAbIiqPv0"
      },
      "source": [
        "#read data with pandas library\n",
        "data = pd.read_excel(\"dataset.xlsx\")"
      ],
      "execution_count": 2,
      "outputs": []
    },
    {
      "cell_type": "code",
      "metadata": {
        "colab": {
          "base_uri": "https://localhost:8080/",
          "height": 142
        },
        "id": "fx-f55xagAWi",
        "outputId": "ed8195e6-4997-43d2-e624-1b273ae37ee5"
      },
      "source": [
        "data.head(3) #First 3 samples of the our dataset:"
      ],
      "execution_count": 3,
      "outputs": [
        {
          "output_type": "execute_result",
          "data": {
            "text/html": [
              "<div>\n",
              "<style scoped>\n",
              "    .dataframe tbody tr th:only-of-type {\n",
              "        vertical-align: middle;\n",
              "    }\n",
              "\n",
              "    .dataframe tbody tr th {\n",
              "        vertical-align: top;\n",
              "    }\n",
              "\n",
              "    .dataframe thead th {\n",
              "        text-align: right;\n",
              "    }\n",
              "</style>\n",
              "<table border=\"1\" class=\"dataframe\">\n",
              "  <thead>\n",
              "    <tr style=\"text-align: right;\">\n",
              "      <th></th>\n",
              "      <th>Name</th>\n",
              "      <th>NOB</th>\n",
              "      <th>V</th>\n",
              "      <th>SH</th>\n",
              "      <th>CS</th>\n",
              "      <th>CDR</th>\n",
              "      <th>TD</th>\n",
              "      <th>NOC</th>\n",
              "      <th>CBO</th>\n",
              "      <th>RFC</th>\n",
              "      <th>LOC</th>\n",
              "      <th>CLOC</th>\n",
              "      <th>FanIn</th>\n",
              "      <th>FanOut</th>\n",
              "      <th>LCOM</th>\n",
              "      <th>WMC</th>\n",
              "      <th>DIT</th>\n",
              "    </tr>\n",
              "  </thead>\n",
              "  <tbody>\n",
              "    <tr>\n",
              "      <th>0</th>\n",
              "      <td>Alarmio-master</td>\n",
              "      <td>22</td>\n",
              "      <td>17</td>\n",
              "      <td>3</td>\n",
              "      <td>169</td>\n",
              "      <td>1.4</td>\n",
              "      <td>1.0</td>\n",
              "      <td>0.364583</td>\n",
              "      <td>2.000000</td>\n",
              "      <td>5.802083</td>\n",
              "      <td>27.260802</td>\n",
              "      <td>3.567901</td>\n",
              "      <td>3.427686</td>\n",
              "      <td>4.367769</td>\n",
              "      <td>21.252630</td>\n",
              "      <td>5.464506</td>\n",
              "      <td>1.968750</td>\n",
              "    </tr>\n",
              "    <tr>\n",
              "      <th>1</th>\n",
              "      <td>AndroidAsyncHTTP-master</td>\n",
              "      <td>11</td>\n",
              "      <td>20</td>\n",
              "      <td>14</td>\n",
              "      <td>494</td>\n",
              "      <td>4.7</td>\n",
              "      <td>6.0</td>\n",
              "      <td>0.474684</td>\n",
              "      <td>2.208861</td>\n",
              "      <td>24.006329</td>\n",
              "      <td>25.996479</td>\n",
              "      <td>10.336268</td>\n",
              "      <td>3.172492</td>\n",
              "      <td>2.727170</td>\n",
              "      <td>17.430380</td>\n",
              "      <td>5.158451</td>\n",
              "      <td>2.177215</td>\n",
              "    </tr>\n",
              "    <tr>\n",
              "      <th>2</th>\n",
              "      <td>android-pdf-viewer-master</td>\n",
              "      <td>2</td>\n",
              "      <td>1</td>\n",
              "      <td>0</td>\n",
              "      <td>4</td>\n",
              "      <td>0.0</td>\n",
              "      <td>12.2</td>\n",
              "      <td>0.000000</td>\n",
              "      <td>0.500000</td>\n",
              "      <td>1.833333</td>\n",
              "      <td>18.280000</td>\n",
              "      <td>4.560000</td>\n",
              "      <td>1.727273</td>\n",
              "      <td>3.454545</td>\n",
              "      <td>9.666667</td>\n",
              "      <td>2.560000</td>\n",
              "      <td>1.666667</td>\n",
              "    </tr>\n",
              "  </tbody>\n",
              "</table>\n",
              "</div>"
            ],
            "text/plain": [
              "                        Name  NOB   V  ...       LCOM       WMC       DIT\n",
              "0             Alarmio-master   22  17  ...  21.252630  5.464506  1.968750\n",
              "1    AndroidAsyncHTTP-master   11  20  ...  17.430380  5.158451  2.177215\n",
              "2  android-pdf-viewer-master    2   1  ...   9.666667  2.560000  1.666667\n",
              "\n",
              "[3 rows x 17 columns]"
            ]
          },
          "metadata": {
            "tags": []
          },
          "execution_count": 3
        }
      ]
    },
    {
      "cell_type": "code",
      "metadata": {
        "colab": {
          "base_uri": "https://localhost:8080/",
          "height": 826
        },
        "id": "5S0Fvtn3fqum",
        "outputId": "458eb9fa-767c-4814-e5ca-47ee8bbbb745"
      },
      "source": [
        "#show the distribution of 3 metrics\n",
        "\n",
        "# TD metrics\n",
        "data[['CDR', 'TD']].plot.hist(title=\"TD METRICS\")\n",
        "\n",
        "# External metrics\n",
        "data[['NOB', 'V', 'SH', 'CS']].plot.hist(title=\"EXTERNAL METRICS\")\n",
        "\n",
        "# Internal metrics\n",
        "data[['NOC', 'CBO', 'LCOM', 'FanIn', 'FanOut', 'RFC', 'DIT', 'WMC', 'LOC', 'CLOC']].plot.hist(title=\"INTERNAL METRICS\")"
      ],
      "execution_count": 4,
      "outputs": [
        {
          "output_type": "execute_result",
          "data": {
            "text/plain": [
              "<matplotlib.axes._subplots.AxesSubplot at 0x7ff0ed934358>"
            ]
          },
          "metadata": {
            "tags": []
          },
          "execution_count": 4
        },
        {
          "output_type": "display_data",
          "data": {
            "image/png": "[encoded data removed]",
            "text/plain": [
              "<Figure size 432x288 with 1 Axes>"
            ]
          },
          "metadata": {
            "tags": [],
            "needs_background": "light"
          }
        },
        {
          "output_type": "display_data",
          "data": {
            "image/png": "[encoded data removed]",
            "text/plain": [
              "<Figure size 432x288 with 1 Axes>"
            ]
          },
          "metadata": {
            "tags": [],
            "needs_background": "light"
          }
        },
        {
          "output_type": "display_data",
          "data": {
            "image/png": "[encoded data removed]",
            "text/plain": [
              "<Figure size 432x288 with 1 Axes>"
            ]
          },
          "metadata": {
            "tags": [],
            "needs_background": "light"
          }
        }
      ]
    },
    {
      "cell_type": "code",
      "metadata": {
        "id": "IpoWMRUMa_vi"
      },
      "source": [
        "#Min max scaler for all data\n",
        "scaler = MinMaxScaler()\n",
        "\n",
        "# all metrics\n",
        "all_metrics = scaler.fit_transform(data.loc[:, \"NOB\":\"DIT\"])\n",
        "all_metrics = pd.DataFrame(all_metrics, columns=['NOB', 'V', 'SH', 'CS', 'CDR', 'TD', 'NOC', 'CBO', 'RFC', 'LOC', 'CLOC', 'FanIn', 'FanOut', 'LCOM', 'WMC', 'DIT'])\n",
        "\n",
        "# TD metrics\n",
        "td_metrics = scaler.fit_transform(data.loc[:, ['CDR', 'TD']])\n",
        "td_metrics = pd.DataFrame(td_metrics, columns=['CDR', 'TD'])\n",
        "\n",
        "# external metrics\n",
        "ext_metrics = scaler.fit_transform(data.loc[:, ['NOB', 'V', 'SH', 'CS']])\n",
        "ext_metrics = pd.DataFrame(ext_metrics, columns=['NOB', 'V', 'SH', 'CS'])\n",
        "\n",
        "# internal metrics\n",
        "int_metrics = scaler.fit_transform(data.loc[:, ['NOC', 'CBO', 'LCOM', 'FanIn', 'FanOut', 'RFC', 'DIT', 'WMC', 'LOC', 'CLOC']])\n",
        "int_metrics = pd.DataFrame(int_metrics, columns=['NOC', 'CBO', 'LCOM', 'FanIn', 'FanOut', 'RFC', 'DIT', 'WMC', 'LOC', 'CLOC'])"
      ],
      "execution_count": 5,
      "outputs": []
    },
    {
      "cell_type": "code",
      "metadata": {
        "colab": {
          "base_uri": "https://localhost:8080/",
          "height": 204
        },
        "id": "wbN19RQd3B7o",
        "outputId": "bf8e6dda-78e9-4414-9fbd-601a9a2b4479"
      },
      "source": [
        "all_metrics.head()"
      ],
      "execution_count": 6,
      "outputs": [
        {
          "output_type": "execute_result",
          "data": {
            "text/html": [
              "<div>\n",
              "<style scoped>\n",
              "    .dataframe tbody tr th:only-of-type {\n",
              "        vertical-align: middle;\n",
              "    }\n",
              "\n",
              "    .dataframe tbody tr th {\n",
              "        vertical-align: top;\n",
              "    }\n",
              "\n",
              "    .dataframe thead th {\n",
              "        text-align: right;\n",
              "    }\n",
              "</style>\n",
              "<table border=\"1\" class=\"dataframe\">\n",
              "  <thead>\n",
              "    <tr style=\"text-align: right;\">\n",
              "      <th></th>\n",
              "      <th>NOB</th>\n",
              "      <th>V</th>\n",
              "      <th>SH</th>\n",
              "      <th>CS</th>\n",
              "      <th>CDR</th>\n",
              "      <th>TD</th>\n",
              "      <th>NOC</th>\n",
              "      <th>CBO</th>\n",
              "      <th>RFC</th>\n",
              "      <th>LOC</th>\n",
              "      <th>CLOC</th>\n",
              "      <th>FanIn</th>\n",
              "      <th>FanOut</th>\n",
              "      <th>LCOM</th>\n",
              "      <th>WMC</th>\n",
              "      <th>DIT</th>\n",
              "    </tr>\n",
              "  </thead>\n",
              "  <tbody>\n",
              "    <tr>\n",
              "      <th>0</th>\n",
              "      <td>0.200000</td>\n",
              "      <td>0.055556</td>\n",
              "      <td>0.069767</td>\n",
              "      <td>0.0845</td>\n",
              "      <td>0.070707</td>\n",
              "      <td>0.081967</td>\n",
              "      <td>0.450368</td>\n",
              "      <td>0.547340</td>\n",
              "      <td>0.241690</td>\n",
              "      <td>0.328644</td>\n",
              "      <td>0.215585</td>\n",
              "      <td>0.467183</td>\n",
              "      <td>0.678344</td>\n",
              "      <td>0.483014</td>\n",
              "      <td>0.493334</td>\n",
              "      <td>0.904251</td>\n",
              "    </tr>\n",
              "    <tr>\n",
              "      <th>1</th>\n",
              "      <td>0.100000</td>\n",
              "      <td>0.065359</td>\n",
              "      <td>0.325581</td>\n",
              "      <td>0.2470</td>\n",
              "      <td>0.237374</td>\n",
              "      <td>0.491803</td>\n",
              "      <td>0.586374</td>\n",
              "      <td>0.604499</td>\n",
              "      <td>1.000000</td>\n",
              "      <td>0.295288</td>\n",
              "      <td>0.624553</td>\n",
              "      <td>0.432401</td>\n",
              "      <td>0.423548</td>\n",
              "      <td>0.396145</td>\n",
              "      <td>0.465703</td>\n",
              "      <td>1.000000</td>\n",
              "    </tr>\n",
              "    <tr>\n",
              "      <th>2</th>\n",
              "      <td>0.018182</td>\n",
              "      <td>0.003268</td>\n",
              "      <td>0.000000</td>\n",
              "      <td>0.0020</td>\n",
              "      <td>0.000000</td>\n",
              "      <td>1.000000</td>\n",
              "      <td>0.000000</td>\n",
              "      <td>0.136835</td>\n",
              "      <td>0.076369</td>\n",
              "      <td>0.091712</td>\n",
              "      <td>0.275531</td>\n",
              "      <td>0.235422</td>\n",
              "      <td>0.536514</td>\n",
              "      <td>0.219697</td>\n",
              "      <td>0.231116</td>\n",
              "      <td>0.765504</td>\n",
              "    </tr>\n",
              "    <tr>\n",
              "      <th>3</th>\n",
              "      <td>0.009091</td>\n",
              "      <td>0.003268</td>\n",
              "      <td>0.023256</td>\n",
              "      <td>0.0030</td>\n",
              "      <td>0.000000</td>\n",
              "      <td>0.172131</td>\n",
              "      <td>0.102941</td>\n",
              "      <td>0.273670</td>\n",
              "      <td>0.177037</td>\n",
              "      <td>0.104300</td>\n",
              "      <td>0.204577</td>\n",
              "      <td>0.411564</td>\n",
              "      <td>0.362383</td>\n",
              "      <td>0.200758</td>\n",
              "      <td>0.299212</td>\n",
              "      <td>0.765504</td>\n",
              "    </tr>\n",
              "    <tr>\n",
              "      <th>4</th>\n",
              "      <td>0.000000</td>\n",
              "      <td>0.019608</td>\n",
              "      <td>0.000000</td>\n",
              "      <td>0.1265</td>\n",
              "      <td>0.171717</td>\n",
              "      <td>0.344262</td>\n",
              "      <td>0.044649</td>\n",
              "      <td>0.778146</td>\n",
              "      <td>0.088330</td>\n",
              "      <td>0.834019</td>\n",
              "      <td>1.000000</td>\n",
              "      <td>1.000000</td>\n",
              "      <td>0.885917</td>\n",
              "      <td>0.248036</td>\n",
              "      <td>1.000000</td>\n",
              "      <td>0.415032</td>\n",
              "    </tr>\n",
              "  </tbody>\n",
              "</table>\n",
              "</div>"
            ],
            "text/plain": [
              "        NOB         V        SH      CS  ...    FanOut      LCOM       WMC       DIT\n",
              "0  0.200000  0.055556  0.069767  0.0845  ...  0.678344  0.483014  0.493334  0.904251\n",
              "1  0.100000  0.065359  0.325581  0.2470  ...  0.423548  0.396145  0.465703  1.000000\n",
              "2  0.018182  0.003268  0.000000  0.0020  ...  0.536514  0.219697  0.231116  0.765504\n",
              "3  0.009091  0.003268  0.023256  0.0030  ...  0.362383  0.200758  0.299212  0.765504\n",
              "4  0.000000  0.019608  0.000000  0.1265  ...  0.885917  0.248036  1.000000  0.415032\n",
              "\n",
              "[5 rows x 16 columns]"
            ]
          },
          "metadata": {
            "tags": []
          },
          "execution_count": 6
        }
      ]
    },
    {
      "cell_type": "markdown",
      "metadata": {
        "id": "b7VOTN3mziEx"
      },
      "source": [
        "# Part1 (Statistical Correlation Analysis)"
      ]
    },
    {
      "cell_type": "code",
      "metadata": {
        "id": "MZcGd4uIFkjH",
        "colab": {
          "base_uri": "https://localhost:8080/",
          "height": 545
        },
        "outputId": "72c640b5-a25f-4459-87a2-9ac696a98fa8"
      },
      "source": [
        "#Show the correlation matrix of all metrics\n",
        "corr_mat = all_metrics.corr(method=\"spearman\")\n",
        "corr_mat"
      ],
      "execution_count": 7,
      "outputs": [
        {
          "output_type": "execute_result",
          "data": {
            "text/html": [
              "<div>\n",
              "<style scoped>\n",
              "    .dataframe tbody tr th:only-of-type {\n",
              "        vertical-align: middle;\n",
              "    }\n",
              "\n",
              "    .dataframe tbody tr th {\n",
              "        vertical-align: top;\n",
              "    }\n",
              "\n",
              "    .dataframe thead th {\n",
              "        text-align: right;\n",
              "    }\n",
              "</style>\n",
              "<table border=\"1\" class=\"dataframe\">\n",
              "  <thead>\n",
              "    <tr style=\"text-align: right;\">\n",
              "      <th></th>\n",
              "      <th>NOB</th>\n",
              "      <th>V</th>\n",
              "      <th>SH</th>\n",
              "      <th>CS</th>\n",
              "      <th>CDR</th>\n",
              "      <th>TD</th>\n",
              "      <th>NOC</th>\n",
              "      <th>CBO</th>\n",
              "      <th>RFC</th>\n",
              "      <th>LOC</th>\n",
              "      <th>CLOC</th>\n",
              "      <th>FanIn</th>\n",
              "      <th>FanOut</th>\n",
              "      <th>LCOM</th>\n",
              "      <th>WMC</th>\n",
              "      <th>DIT</th>\n",
              "    </tr>\n",
              "  </thead>\n",
              "  <tbody>\n",
              "    <tr>\n",
              "      <th>NOB</th>\n",
              "      <td>1.000000</td>\n",
              "      <td>0.694733</td>\n",
              "      <td>0.587592</td>\n",
              "      <td>0.691274</td>\n",
              "      <td>0.373251</td>\n",
              "      <td>0.133383</td>\n",
              "      <td>0.407858</td>\n",
              "      <td>0.353351</td>\n",
              "      <td>0.447180</td>\n",
              "      <td>0.349883</td>\n",
              "      <td>0.369028</td>\n",
              "      <td>0.458483</td>\n",
              "      <td>0.277107</td>\n",
              "      <td>0.062748</td>\n",
              "      <td>0.507420</td>\n",
              "      <td>0.245963</td>\n",
              "    </tr>\n",
              "    <tr>\n",
              "      <th>V</th>\n",
              "      <td>0.694733</td>\n",
              "      <td>1.000000</td>\n",
              "      <td>0.629663</td>\n",
              "      <td>0.624194</td>\n",
              "      <td>0.280358</td>\n",
              "      <td>0.296757</td>\n",
              "      <td>0.409002</td>\n",
              "      <td>0.426221</td>\n",
              "      <td>0.345986</td>\n",
              "      <td>0.243636</td>\n",
              "      <td>0.208594</td>\n",
              "      <td>0.468565</td>\n",
              "      <td>0.289585</td>\n",
              "      <td>0.029765</td>\n",
              "      <td>0.397770</td>\n",
              "      <td>0.110767</td>\n",
              "    </tr>\n",
              "    <tr>\n",
              "      <th>SH</th>\n",
              "      <td>0.587592</td>\n",
              "      <td>0.629663</td>\n",
              "      <td>1.000000</td>\n",
              "      <td>0.618509</td>\n",
              "      <td>0.384657</td>\n",
              "      <td>-0.026546</td>\n",
              "      <td>0.512876</td>\n",
              "      <td>0.391886</td>\n",
              "      <td>0.425499</td>\n",
              "      <td>0.129174</td>\n",
              "      <td>0.204069</td>\n",
              "      <td>0.278723</td>\n",
              "      <td>0.156120</td>\n",
              "      <td>-0.016116</td>\n",
              "      <td>0.349367</td>\n",
              "      <td>0.107688</td>\n",
              "    </tr>\n",
              "    <tr>\n",
              "      <th>CS</th>\n",
              "      <td>0.691274</td>\n",
              "      <td>0.624194</td>\n",
              "      <td>0.618509</td>\n",
              "      <td>1.000000</td>\n",
              "      <td>0.548113</td>\n",
              "      <td>0.194611</td>\n",
              "      <td>0.402859</td>\n",
              "      <td>0.577439</td>\n",
              "      <td>0.492868</td>\n",
              "      <td>0.440458</td>\n",
              "      <td>0.260596</td>\n",
              "      <td>0.456943</td>\n",
              "      <td>0.388502</td>\n",
              "      <td>0.065511</td>\n",
              "      <td>0.569857</td>\n",
              "      <td>0.218801</td>\n",
              "    </tr>\n",
              "    <tr>\n",
              "      <th>CDR</th>\n",
              "      <td>0.373251</td>\n",
              "      <td>0.280358</td>\n",
              "      <td>0.384657</td>\n",
              "      <td>0.548113</td>\n",
              "      <td>1.000000</td>\n",
              "      <td>0.013400</td>\n",
              "      <td>0.192707</td>\n",
              "      <td>0.212007</td>\n",
              "      <td>0.240992</td>\n",
              "      <td>0.328527</td>\n",
              "      <td>0.171773</td>\n",
              "      <td>0.243709</td>\n",
              "      <td>0.237237</td>\n",
              "      <td>-0.038683</td>\n",
              "      <td>0.343628</td>\n",
              "      <td>0.123330</td>\n",
              "    </tr>\n",
              "    <tr>\n",
              "      <th>TD</th>\n",
              "      <td>0.133383</td>\n",
              "      <td>0.296757</td>\n",
              "      <td>-0.026546</td>\n",
              "      <td>0.194611</td>\n",
              "      <td>0.013400</td>\n",
              "      <td>1.000000</td>\n",
              "      <td>-0.179659</td>\n",
              "      <td>0.013652</td>\n",
              "      <td>-0.126364</td>\n",
              "      <td>-0.031098</td>\n",
              "      <td>0.114297</td>\n",
              "      <td>0.239077</td>\n",
              "      <td>0.240135</td>\n",
              "      <td>0.017159</td>\n",
              "      <td>0.127638</td>\n",
              "      <td>0.352010</td>\n",
              "    </tr>\n",
              "    <tr>\n",
              "      <th>NOC</th>\n",
              "      <td>0.407858</td>\n",
              "      <td>0.409002</td>\n",
              "      <td>0.512876</td>\n",
              "      <td>0.402859</td>\n",
              "      <td>0.192707</td>\n",
              "      <td>-0.179659</td>\n",
              "      <td>1.000000</td>\n",
              "      <td>0.667344</td>\n",
              "      <td>0.584086</td>\n",
              "      <td>-0.120165</td>\n",
              "      <td>0.297347</td>\n",
              "      <td>0.268289</td>\n",
              "      <td>-0.074350</td>\n",
              "      <td>-0.013518</td>\n",
              "      <td>0.173468</td>\n",
              "      <td>-0.163788</td>\n",
              "    </tr>\n",
              "    <tr>\n",
              "      <th>CBO</th>\n",
              "      <td>0.353351</td>\n",
              "      <td>0.426221</td>\n",
              "      <td>0.391886</td>\n",
              "      <td>0.577439</td>\n",
              "      <td>0.212007</td>\n",
              "      <td>0.013652</td>\n",
              "      <td>0.667344</td>\n",
              "      <td>1.000000</td>\n",
              "      <td>0.421247</td>\n",
              "      <td>0.177024</td>\n",
              "      <td>0.250408</td>\n",
              "      <td>0.594578</td>\n",
              "      <td>0.240953</td>\n",
              "      <td>0.109694</td>\n",
              "      <td>0.492616</td>\n",
              "      <td>0.000144</td>\n",
              "    </tr>\n",
              "    <tr>\n",
              "      <th>RFC</th>\n",
              "      <td>0.447180</td>\n",
              "      <td>0.345986</td>\n",
              "      <td>0.425499</td>\n",
              "      <td>0.492868</td>\n",
              "      <td>0.240992</td>\n",
              "      <td>-0.126364</td>\n",
              "      <td>0.584086</td>\n",
              "      <td>0.421247</td>\n",
              "      <td>1.000000</td>\n",
              "      <td>0.134608</td>\n",
              "      <td>0.381636</td>\n",
              "      <td>0.414878</td>\n",
              "      <td>0.072564</td>\n",
              "      <td>0.444076</td>\n",
              "      <td>0.529367</td>\n",
              "      <td>0.237368</td>\n",
              "    </tr>\n",
              "    <tr>\n",
              "      <th>LOC</th>\n",
              "      <td>0.349883</td>\n",
              "      <td>0.243636</td>\n",
              "      <td>0.129174</td>\n",
              "      <td>0.440458</td>\n",
              "      <td>0.328527</td>\n",
              "      <td>-0.031098</td>\n",
              "      <td>-0.120165</td>\n",
              "      <td>0.177024</td>\n",
              "      <td>0.134608</td>\n",
              "      <td>1.000000</td>\n",
              "      <td>0.126681</td>\n",
              "      <td>0.554326</td>\n",
              "      <td>0.618676</td>\n",
              "      <td>-0.065455</td>\n",
              "      <td>0.678224</td>\n",
              "      <td>0.181072</td>\n",
              "    </tr>\n",
              "    <tr>\n",
              "      <th>CLOC</th>\n",
              "      <td>0.369028</td>\n",
              "      <td>0.208594</td>\n",
              "      <td>0.204069</td>\n",
              "      <td>0.260596</td>\n",
              "      <td>0.171773</td>\n",
              "      <td>0.114297</td>\n",
              "      <td>0.297347</td>\n",
              "      <td>0.250408</td>\n",
              "      <td>0.381636</td>\n",
              "      <td>0.126681</td>\n",
              "      <td>1.000000</td>\n",
              "      <td>0.416789</td>\n",
              "      <td>0.109636</td>\n",
              "      <td>0.107619</td>\n",
              "      <td>0.355080</td>\n",
              "      <td>-0.017867</td>\n",
              "    </tr>\n",
              "    <tr>\n",
              "      <th>FanIn</th>\n",
              "      <td>0.458483</td>\n",
              "      <td>0.468565</td>\n",
              "      <td>0.278723</td>\n",
              "      <td>0.456943</td>\n",
              "      <td>0.243709</td>\n",
              "      <td>0.239077</td>\n",
              "      <td>0.268289</td>\n",
              "      <td>0.594578</td>\n",
              "      <td>0.414878</td>\n",
              "      <td>0.554326</td>\n",
              "      <td>0.416789</td>\n",
              "      <td>1.000000</td>\n",
              "      <td>0.679297</td>\n",
              "      <td>0.296355</td>\n",
              "      <td>0.802910</td>\n",
              "      <td>0.179395</td>\n",
              "    </tr>\n",
              "    <tr>\n",
              "      <th>FanOut</th>\n",
              "      <td>0.277107</td>\n",
              "      <td>0.289585</td>\n",
              "      <td>0.156120</td>\n",
              "      <td>0.388502</td>\n",
              "      <td>0.237237</td>\n",
              "      <td>0.240135</td>\n",
              "      <td>-0.074350</td>\n",
              "      <td>0.240953</td>\n",
              "      <td>0.072564</td>\n",
              "      <td>0.618676</td>\n",
              "      <td>0.109636</td>\n",
              "      <td>0.679297</td>\n",
              "      <td>1.000000</td>\n",
              "      <td>0.076982</td>\n",
              "      <td>0.626327</td>\n",
              "      <td>0.295389</td>\n",
              "    </tr>\n",
              "    <tr>\n",
              "      <th>LCOM</th>\n",
              "      <td>0.062748</td>\n",
              "      <td>0.029765</td>\n",
              "      <td>-0.016116</td>\n",
              "      <td>0.065511</td>\n",
              "      <td>-0.038683</td>\n",
              "      <td>0.017159</td>\n",
              "      <td>-0.013518</td>\n",
              "      <td>0.109694</td>\n",
              "      <td>0.444076</td>\n",
              "      <td>-0.065455</td>\n",
              "      <td>0.107619</td>\n",
              "      <td>0.296355</td>\n",
              "      <td>0.076982</td>\n",
              "      <td>1.000000</td>\n",
              "      <td>0.291312</td>\n",
              "      <td>0.229251</td>\n",
              "    </tr>\n",
              "    <tr>\n",
              "      <th>WMC</th>\n",
              "      <td>0.507420</td>\n",
              "      <td>0.397770</td>\n",
              "      <td>0.349367</td>\n",
              "      <td>0.569857</td>\n",
              "      <td>0.343628</td>\n",
              "      <td>0.127638</td>\n",
              "      <td>0.173468</td>\n",
              "      <td>0.492616</td>\n",
              "      <td>0.529367</td>\n",
              "      <td>0.678224</td>\n",
              "      <td>0.355080</td>\n",
              "      <td>0.802910</td>\n",
              "      <td>0.626327</td>\n",
              "      <td>0.291312</td>\n",
              "      <td>1.000000</td>\n",
              "      <td>0.381028</td>\n",
              "    </tr>\n",
              "    <tr>\n",
              "      <th>DIT</th>\n",
              "      <td>0.245963</td>\n",
              "      <td>0.110767</td>\n",
              "      <td>0.107688</td>\n",
              "      <td>0.218801</td>\n",
              "      <td>0.123330</td>\n",
              "      <td>0.352010</td>\n",
              "      <td>-0.163788</td>\n",
              "      <td>0.000144</td>\n",
              "      <td>0.237368</td>\n",
              "      <td>0.181072</td>\n",
              "      <td>-0.017867</td>\n",
              "      <td>0.179395</td>\n",
              "      <td>0.295389</td>\n",
              "      <td>0.229251</td>\n",
              "      <td>0.381028</td>\n",
              "      <td>1.000000</td>\n",
              "    </tr>\n",
              "  </tbody>\n",
              "</table>\n",
              "</div>"
            ],
            "text/plain": [
              "             NOB         V        SH  ...      LCOM       WMC       DIT\n",
              "NOB     1.000000  0.694733  0.587592  ...  0.062748  0.507420  0.245963\n",
              "V       0.694733  1.000000  0.629663  ...  0.029765  0.397770  0.110767\n",
              "SH      0.587592  0.629663  1.000000  ... -0.016116  0.349367  0.107688\n",
              "CS      0.691274  0.624194  0.618509  ...  0.065511  0.569857  0.218801\n",
              "CDR     0.373251  0.280358  0.384657  ... -0.038683  0.343628  0.123330\n",
              "TD      0.133383  0.296757 -0.026546  ...  0.017159  0.127638  0.352010\n",
              "NOC     0.407858  0.409002  0.512876  ... -0.013518  0.173468 -0.163788\n",
              "CBO     0.353351  0.426221  0.391886  ...  0.109694  0.492616  0.000144\n",
              "RFC     0.447180  0.345986  0.425499  ...  0.444076  0.529367  0.237368\n",
              "LOC     0.349883  0.243636  0.129174  ... -0.065455  0.678224  0.181072\n",
              "CLOC    0.369028  0.208594  0.204069  ...  0.107619  0.355080 -0.017867\n",
              "FanIn   0.458483  0.468565  0.278723  ...  0.296355  0.802910  0.179395\n",
              "FanOut  0.277107  0.289585  0.156120  ...  0.076982  0.626327  0.295389\n",
              "LCOM    0.062748  0.029765 -0.016116  ...  1.000000  0.291312  0.229251\n",
              "WMC     0.507420  0.397770  0.349367  ...  0.291312  1.000000  0.381028\n",
              "DIT     0.245963  0.110767  0.107688  ...  0.229251  0.381028  1.000000\n",
              "\n",
              "[16 rows x 16 columns]"
            ]
          },
          "metadata": {
            "tags": []
          },
          "execution_count": 7
        }
      ]
    },
    {
      "cell_type": "code",
      "metadata": {
        "id": "ySKahFCydhRx",
        "colab": {
          "base_uri": "https://localhost:8080/",
          "height": 565
        },
        "outputId": "0adcdbef-c8b7-484c-f576-60b79d578fa4"
      },
      "source": [
        "#P values of Spearman Correlation Table\n",
        "corr, p = spearmanr(all_metrics)\n",
        "pvalues = pd.DataFrame(p, index=['NOB', 'V', 'SH', 'CS', 'CDR', 'TD', 'NOC', 'CBO', 'RFC', 'LOC', 'CLOC', 'FanIn', 'FanOut', 'LCOM', 'WMC', 'DIT'],\n",
        "                       columns=['NOB', 'V', 'SH', 'CS', 'CDR', 'TD', 'NOC', 'CBO', 'RFC', 'LOC', 'CLOC', 'FanIn', 'FanOut', 'LCOM', 'WMC', 'DIT'])\n",
        "pvalues"
      ],
      "execution_count": 8,
      "outputs": [
        {
          "output_type": "execute_result",
          "data": {
            "text/html": [
              "<div>\n",
              "<style scoped>\n",
              "    .dataframe tbody tr th:only-of-type {\n",
              "        vertical-align: middle;\n",
              "    }\n",
              "\n",
              "    .dataframe tbody tr th {\n",
              "        vertical-align: top;\n",
              "    }\n",
              "\n",
              "    .dataframe thead th {\n",
              "        text-align: right;\n",
              "    }\n",
              "</style>\n",
              "<table border=\"1\" class=\"dataframe\">\n",
              "  <thead>\n",
              "    <tr style=\"text-align: right;\">\n",
              "      <th></th>\n",
              "      <th>NOB</th>\n",
              "      <th>V</th>\n",
              "      <th>SH</th>\n",
              "      <th>CS</th>\n",
              "      <th>CDR</th>\n",
              "      <th>TD</th>\n",
              "      <th>NOC</th>\n",
              "      <th>CBO</th>\n",
              "      <th>RFC</th>\n",
              "      <th>LOC</th>\n",
              "      <th>CLOC</th>\n",
              "      <th>FanIn</th>\n",
              "      <th>FanOut</th>\n",
              "      <th>LCOM</th>\n",
              "      <th>WMC</th>\n",
              "      <th>DIT</th>\n",
              "    </tr>\n",
              "  </thead>\n",
              "  <tbody>\n",
              "    <tr>\n",
              "      <th>NOB</th>\n",
              "      <td>0.000000e+00</td>\n",
              "      <td>2.183273e-08</td>\n",
              "      <td>7.250683e-06</td>\n",
              "      <td>2.736866e-08</td>\n",
              "      <td>0.007590</td>\n",
              "      <td>0.355778</td>\n",
              "      <td>3.281475e-03</td>\n",
              "      <td>1.183066e-02</td>\n",
              "      <td>0.001131</td>\n",
              "      <td>1.274742e-02</td>\n",
              "      <td>0.008359</td>\n",
              "      <td>8.126228e-04</td>\n",
              "      <td>5.138864e-02</td>\n",
              "      <td>0.665085</td>\n",
              "      <td>1.692314e-04</td>\n",
              "      <td>0.085107</td>\n",
              "    </tr>\n",
              "    <tr>\n",
              "      <th>V</th>\n",
              "      <td>2.183273e-08</td>\n",
              "      <td>0.000000e+00</td>\n",
              "      <td>9.643803e-07</td>\n",
              "      <td>1.274854e-06</td>\n",
              "      <td>0.048605</td>\n",
              "      <td>0.036375</td>\n",
              "      <td>3.186850e-03</td>\n",
              "      <td>2.026772e-03</td>\n",
              "      <td>0.013849</td>\n",
              "      <td>8.819585e-02</td>\n",
              "      <td>0.146024</td>\n",
              "      <td>5.993740e-04</td>\n",
              "      <td>4.136864e-02</td>\n",
              "      <td>0.837422</td>\n",
              "      <td>4.228574e-03</td>\n",
              "      <td>0.443801</td>\n",
              "    </tr>\n",
              "    <tr>\n",
              "      <th>SH</th>\n",
              "      <td>7.250683e-06</td>\n",
              "      <td>9.643803e-07</td>\n",
              "      <td>0.000000e+00</td>\n",
              "      <td>1.694429e-06</td>\n",
              "      <td>0.005813</td>\n",
              "      <td>0.854806</td>\n",
              "      <td>1.399509e-04</td>\n",
              "      <td>4.885268e-03</td>\n",
              "      <td>0.002067</td>\n",
              "      <td>3.712944e-01</td>\n",
              "      <td>0.155173</td>\n",
              "      <td>4.998974e-02</td>\n",
              "      <td>2.789547e-01</td>\n",
              "      <td>0.911550</td>\n",
              "      <td>1.288873e-02</td>\n",
              "      <td>0.456648</td>\n",
              "    </tr>\n",
              "    <tr>\n",
              "      <th>CS</th>\n",
              "      <td>2.736866e-08</td>\n",
              "      <td>1.274854e-06</td>\n",
              "      <td>1.694429e-06</td>\n",
              "      <td>0.000000e+00</td>\n",
              "      <td>0.000038</td>\n",
              "      <td>0.175643</td>\n",
              "      <td>3.724378e-03</td>\n",
              "      <td>1.131883e-05</td>\n",
              "      <td>0.000277</td>\n",
              "      <td>1.368994e-03</td>\n",
              "      <td>0.067578</td>\n",
              "      <td>8.506172e-04</td>\n",
              "      <td>5.302098e-03</td>\n",
              "      <td>0.651268</td>\n",
              "      <td>1.563493e-05</td>\n",
              "      <td>0.126863</td>\n",
              "    </tr>\n",
              "    <tr>\n",
              "      <th>CDR</th>\n",
              "      <td>7.590282e-03</td>\n",
              "      <td>4.860545e-02</td>\n",
              "      <td>5.813210e-03</td>\n",
              "      <td>3.782810e-05</td>\n",
              "      <td>0.000000</td>\n",
              "      <td>0.926412</td>\n",
              "      <td>1.799895e-01</td>\n",
              "      <td>1.393924e-01</td>\n",
              "      <td>0.091812</td>\n",
              "      <td>1.984074e-02</td>\n",
              "      <td>0.232953</td>\n",
              "      <td>8.809831e-02</td>\n",
              "      <td>9.714306e-02</td>\n",
              "      <td>0.789691</td>\n",
              "      <td>1.455497e-02</td>\n",
              "      <td>0.393505</td>\n",
              "    </tr>\n",
              "    <tr>\n",
              "      <th>TD</th>\n",
              "      <td>3.557784e-01</td>\n",
              "      <td>3.637483e-02</td>\n",
              "      <td>8.548056e-01</td>\n",
              "      <td>1.756426e-01</td>\n",
              "      <td>0.926412</td>\n",
              "      <td>0.000000</td>\n",
              "      <td>2.118719e-01</td>\n",
              "      <td>9.250346e-01</td>\n",
              "      <td>0.381878</td>\n",
              "      <td>8.302484e-01</td>\n",
              "      <td>0.429321</td>\n",
              "      <td>9.450086e-02</td>\n",
              "      <td>9.300817e-02</td>\n",
              "      <td>0.905850</td>\n",
              "      <td>3.770595e-01</td>\n",
              "      <td>0.012178</td>\n",
              "    </tr>\n",
              "    <tr>\n",
              "      <th>NOC</th>\n",
              "      <td>3.281475e-03</td>\n",
              "      <td>3.186850e-03</td>\n",
              "      <td>1.399509e-04</td>\n",
              "      <td>3.724378e-03</td>\n",
              "      <td>0.179989</td>\n",
              "      <td>0.211872</td>\n",
              "      <td>0.000000e+00</td>\n",
              "      <td>1.204954e-07</td>\n",
              "      <td>0.000008</td>\n",
              "      <td>4.058488e-01</td>\n",
              "      <td>0.035988</td>\n",
              "      <td>5.959094e-02</td>\n",
              "      <td>6.078456e-01</td>\n",
              "      <td>0.925764</td>\n",
              "      <td>2.283032e-01</td>\n",
              "      <td>0.255723</td>\n",
              "    </tr>\n",
              "    <tr>\n",
              "      <th>CBO</th>\n",
              "      <td>1.183066e-02</td>\n",
              "      <td>2.026772e-03</td>\n",
              "      <td>4.885268e-03</td>\n",
              "      <td>1.131883e-05</td>\n",
              "      <td>0.139392</td>\n",
              "      <td>0.925035</td>\n",
              "      <td>1.204954e-07</td>\n",
              "      <td>0.000000e+00</td>\n",
              "      <td>0.002315</td>\n",
              "      <td>2.187603e-01</td>\n",
              "      <td>0.079442</td>\n",
              "      <td>5.289834e-06</td>\n",
              "      <td>9.186583e-02</td>\n",
              "      <td>0.448253</td>\n",
              "      <td>2.789223e-04</td>\n",
              "      <td>0.999208</td>\n",
              "    </tr>\n",
              "    <tr>\n",
              "      <th>RFC</th>\n",
              "      <td>1.130742e-03</td>\n",
              "      <td>1.384922e-02</td>\n",
              "      <td>2.066568e-03</td>\n",
              "      <td>2.766126e-04</td>\n",
              "      <td>0.091812</td>\n",
              "      <td>0.381878</td>\n",
              "      <td>8.470519e-06</td>\n",
              "      <td>2.315436e-03</td>\n",
              "      <td>0.000000</td>\n",
              "      <td>3.513387e-01</td>\n",
              "      <td>0.006244</td>\n",
              "      <td>2.738000e-03</td>\n",
              "      <td>6.165203e-01</td>\n",
              "      <td>0.001236</td>\n",
              "      <td>7.725072e-05</td>\n",
              "      <td>0.096953</td>\n",
              "    </tr>\n",
              "    <tr>\n",
              "      <th>LOC</th>\n",
              "      <td>1.274742e-02</td>\n",
              "      <td>8.819585e-02</td>\n",
              "      <td>3.712944e-01</td>\n",
              "      <td>1.368994e-03</td>\n",
              "      <td>0.019841</td>\n",
              "      <td>0.830248</td>\n",
              "      <td>4.058488e-01</td>\n",
              "      <td>2.187603e-01</td>\n",
              "      <td>0.351339</td>\n",
              "      <td>0.000000e+00</td>\n",
              "      <td>0.380676</td>\n",
              "      <td>2.957400e-05</td>\n",
              "      <td>1.680469e-06</td>\n",
              "      <td>0.651547</td>\n",
              "      <td>6.247236e-08</td>\n",
              "      <td>0.208241</td>\n",
              "    </tr>\n",
              "    <tr>\n",
              "      <th>CLOC</th>\n",
              "      <td>8.358773e-03</td>\n",
              "      <td>1.460242e-01</td>\n",
              "      <td>1.551731e-01</td>\n",
              "      <td>6.757821e-02</td>\n",
              "      <td>0.232953</td>\n",
              "      <td>0.429321</td>\n",
              "      <td>3.598755e-02</td>\n",
              "      <td>7.944223e-02</td>\n",
              "      <td>0.006244</td>\n",
              "      <td>3.806763e-01</td>\n",
              "      <td>0.000000</td>\n",
              "      <td>2.604586e-03</td>\n",
              "      <td>4.484972e-01</td>\n",
              "      <td>0.456939</td>\n",
              "      <td>1.139534e-02</td>\n",
              "      <td>0.901986</td>\n",
              "    </tr>\n",
              "    <tr>\n",
              "      <th>FanIn</th>\n",
              "      <td>8.126228e-04</td>\n",
              "      <td>5.993740e-04</td>\n",
              "      <td>4.998974e-02</td>\n",
              "      <td>8.506172e-04</td>\n",
              "      <td>0.088098</td>\n",
              "      <td>0.094501</td>\n",
              "      <td>5.959094e-02</td>\n",
              "      <td>5.289834e-06</td>\n",
              "      <td>0.002738</td>\n",
              "      <td>2.957400e-05</td>\n",
              "      <td>0.002605</td>\n",
              "      <td>0.000000e+00</td>\n",
              "      <td>5.846653e-08</td>\n",
              "      <td>0.036641</td>\n",
              "      <td>2.317602e-12</td>\n",
              "      <td>0.212555</td>\n",
              "    </tr>\n",
              "    <tr>\n",
              "      <th>FanOut</th>\n",
              "      <td>5.138864e-02</td>\n",
              "      <td>4.136864e-02</td>\n",
              "      <td>2.789547e-01</td>\n",
              "      <td>5.302098e-03</td>\n",
              "      <td>0.097143</td>\n",
              "      <td>0.093008</td>\n",
              "      <td>6.078456e-01</td>\n",
              "      <td>9.186583e-02</td>\n",
              "      <td>0.616520</td>\n",
              "      <td>1.680469e-06</td>\n",
              "      <td>0.448497</td>\n",
              "      <td>5.846653e-08</td>\n",
              "      <td>0.000000e+00</td>\n",
              "      <td>0.595164</td>\n",
              "      <td>1.144130e-06</td>\n",
              "      <td>0.037287</td>\n",
              "    </tr>\n",
              "    <tr>\n",
              "      <th>LCOM</th>\n",
              "      <td>6.650849e-01</td>\n",
              "      <td>8.374224e-01</td>\n",
              "      <td>9.115497e-01</td>\n",
              "      <td>6.512684e-01</td>\n",
              "      <td>0.789691</td>\n",
              "      <td>0.905850</td>\n",
              "      <td>9.257645e-01</td>\n",
              "      <td>4.482534e-01</td>\n",
              "      <td>0.001236</td>\n",
              "      <td>6.515468e-01</td>\n",
              "      <td>0.456939</td>\n",
              "      <td>3.664095e-02</td>\n",
              "      <td>5.951639e-01</td>\n",
              "      <td>0.000000</td>\n",
              "      <td>4.011698e-02</td>\n",
              "      <td>0.109276</td>\n",
              "    </tr>\n",
              "    <tr>\n",
              "      <th>WMC</th>\n",
              "      <td>1.692314e-04</td>\n",
              "      <td>4.228574e-03</td>\n",
              "      <td>1.288873e-02</td>\n",
              "      <td>1.563493e-05</td>\n",
              "      <td>0.014555</td>\n",
              "      <td>0.377059</td>\n",
              "      <td>2.283032e-01</td>\n",
              "      <td>2.789223e-04</td>\n",
              "      <td>0.000077</td>\n",
              "      <td>6.247236e-08</td>\n",
              "      <td>0.011395</td>\n",
              "      <td>2.317602e-12</td>\n",
              "      <td>1.144130e-06</td>\n",
              "      <td>0.040117</td>\n",
              "      <td>0.000000e+00</td>\n",
              "      <td>0.006334</td>\n",
              "    </tr>\n",
              "    <tr>\n",
              "      <th>DIT</th>\n",
              "      <td>8.510740e-02</td>\n",
              "      <td>4.438012e-01</td>\n",
              "      <td>4.566475e-01</td>\n",
              "      <td>1.268632e-01</td>\n",
              "      <td>0.393505</td>\n",
              "      <td>0.012178</td>\n",
              "      <td>2.557235e-01</td>\n",
              "      <td>9.992076e-01</td>\n",
              "      <td>0.096953</td>\n",
              "      <td>2.082408e-01</td>\n",
              "      <td>0.901986</td>\n",
              "      <td>2.125550e-01</td>\n",
              "      <td>3.728685e-02</td>\n",
              "      <td>0.109276</td>\n",
              "      <td>6.334423e-03</td>\n",
              "      <td>0.000000</td>\n",
              "    </tr>\n",
              "  </tbody>\n",
              "</table>\n",
              "</div>"
            ],
            "text/plain": [
              "                 NOB             V  ...           WMC       DIT\n",
              "NOB     0.000000e+00  2.183273e-08  ...  1.692314e-04  0.085107\n",
              "V       2.183273e-08  0.000000e+00  ...  4.228574e-03  0.443801\n",
              "SH      7.250683e-06  9.643803e-07  ...  1.288873e-02  0.456648\n",
              "CS      2.736866e-08  1.274854e-06  ...  1.563493e-05  0.126863\n",
              "CDR     7.590282e-03  4.860545e-02  ...  1.455497e-02  0.393505\n",
              "TD      3.557784e-01  3.637483e-02  ...  3.770595e-01  0.012178\n",
              "NOC     3.281475e-03  3.186850e-03  ...  2.283032e-01  0.255723\n",
              "CBO     1.183066e-02  2.026772e-03  ...  2.789223e-04  0.999208\n",
              "RFC     1.130742e-03  1.384922e-02  ...  7.725072e-05  0.096953\n",
              "LOC     1.274742e-02  8.819585e-02  ...  6.247236e-08  0.208241\n",
              "CLOC    8.358773e-03  1.460242e-01  ...  1.139534e-02  0.901986\n",
              "FanIn   8.126228e-04  5.993740e-04  ...  2.317602e-12  0.212555\n",
              "FanOut  5.138864e-02  4.136864e-02  ...  1.144130e-06  0.037287\n",
              "LCOM    6.650849e-01  8.374224e-01  ...  4.011698e-02  0.109276\n",
              "WMC     1.692314e-04  4.228574e-03  ...  0.000000e+00  0.006334\n",
              "DIT     8.510740e-02  4.438012e-01  ...  6.334423e-03  0.000000\n",
              "\n",
              "[16 rows x 16 columns]"
            ]
          },
          "metadata": {
            "tags": []
          },
          "execution_count": 8
        }
      ]
    },
    {
      "cell_type": "code",
      "metadata": {
        "id": "LnY9-Yk9jr7a",
        "colab": {
          "base_uri": "https://localhost:8080/",
          "height": 596
        },
        "outputId": "3ccd9eb9-d983-4783-ff5a-87e44d6a424b"
      },
      "source": [
        "#If you want to see heatmap of the correlation matrix, you can launch code below:\n",
        "fig, ax = plt.subplots(figsize=(15,10))\n",
        "sns.heatmap(corr_mat, annot=True, ax=ax);"
      ],
      "execution_count": 36,
      "outputs": [
        {
          "output_type": "display_data",
          "data": {
            "image/png": "[encoded data removed]",
            "text/plain": [
              "<Figure size 1080x720 with 2 Axes>"
            ]
          },
          "metadata": {
            "tags": [],
            "needs_background": "light"
          }
        }
      ]
    },
    {
      "cell_type": "code",
      "metadata": {
        "id": "BasbYRGXj0fO",
        "colab": {
          "base_uri": "https://localhost:8080/",
          "height": 173
        },
        "outputId": "3871f108-c7e3-43b7-882e-fcad47279476"
      },
      "source": [
        "#Correlation between External Metrics & TD\n",
        "pd.concat([td_metrics, ext_metrics], axis=1, keys=['df1', 'df2']).corr().loc['df2', 'df1']"
      ],
      "execution_count": 10,
      "outputs": [
        {
          "output_type": "execute_result",
          "data": {
            "text/html": [
              "<div>\n",
              "<style scoped>\n",
              "    .dataframe tbody tr th:only-of-type {\n",
              "        vertical-align: middle;\n",
              "    }\n",
              "\n",
              "    .dataframe tbody tr th {\n",
              "        vertical-align: top;\n",
              "    }\n",
              "\n",
              "    .dataframe thead th {\n",
              "        text-align: right;\n",
              "    }\n",
              "</style>\n",
              "<table border=\"1\" class=\"dataframe\">\n",
              "  <thead>\n",
              "    <tr style=\"text-align: right;\">\n",
              "      <th></th>\n",
              "      <th>CDR</th>\n",
              "      <th>TD</th>\n",
              "    </tr>\n",
              "  </thead>\n",
              "  <tbody>\n",
              "    <tr>\n",
              "      <th>NOB</th>\n",
              "      <td>0.045188</td>\n",
              "      <td>-0.115792</td>\n",
              "    </tr>\n",
              "    <tr>\n",
              "      <th>V</th>\n",
              "      <td>0.175517</td>\n",
              "      <td>-0.045441</td>\n",
              "    </tr>\n",
              "    <tr>\n",
              "      <th>SH</th>\n",
              "      <td>0.455000</td>\n",
              "      <td>-0.043494</td>\n",
              "    </tr>\n",
              "    <tr>\n",
              "      <th>CS</th>\n",
              "      <td>0.260119</td>\n",
              "      <td>-0.015236</td>\n",
              "    </tr>\n",
              "  </tbody>\n",
              "</table>\n",
              "</div>"
            ],
            "text/plain": [
              "          CDR        TD\n",
              "NOB  0.045188 -0.115792\n",
              "V    0.175517 -0.045441\n",
              "SH   0.455000 -0.043494\n",
              "CS   0.260119 -0.015236"
            ]
          },
          "metadata": {
            "tags": []
          },
          "execution_count": 10
        }
      ]
    },
    {
      "cell_type": "code",
      "metadata": {
        "id": "e2QuIBs8o1x8",
        "colab": {
          "base_uri": "https://localhost:8080/",
          "height": 359
        },
        "outputId": "8c61b712-0473-4d39-de02-260134394053"
      },
      "source": [
        "#Correlation between Internal Metrics & TD\n",
        "pd.concat([td_metrics, int_metrics], axis=1, keys=['df1', 'df2']).corr().loc['df2', 'df1']"
      ],
      "execution_count": 11,
      "outputs": [
        {
          "output_type": "execute_result",
          "data": {
            "text/html": [
              "<div>\n",
              "<style scoped>\n",
              "    .dataframe tbody tr th:only-of-type {\n",
              "        vertical-align: middle;\n",
              "    }\n",
              "\n",
              "    .dataframe tbody tr th {\n",
              "        vertical-align: top;\n",
              "    }\n",
              "\n",
              "    .dataframe thead th {\n",
              "        text-align: right;\n",
              "    }\n",
              "</style>\n",
              "<table border=\"1\" class=\"dataframe\">\n",
              "  <thead>\n",
              "    <tr style=\"text-align: right;\">\n",
              "      <th></th>\n",
              "      <th>CDR</th>\n",
              "      <th>TD</th>\n",
              "    </tr>\n",
              "  </thead>\n",
              "  <tbody>\n",
              "    <tr>\n",
              "      <th>NOC</th>\n",
              "      <td>0.160786</td>\n",
              "      <td>-0.235805</td>\n",
              "    </tr>\n",
              "    <tr>\n",
              "      <th>CBO</th>\n",
              "      <td>0.171285</td>\n",
              "      <td>-0.116862</td>\n",
              "    </tr>\n",
              "    <tr>\n",
              "      <th>LCOM</th>\n",
              "      <td>-0.145200</td>\n",
              "      <td>-0.018478</td>\n",
              "    </tr>\n",
              "    <tr>\n",
              "      <th>FanIn</th>\n",
              "      <td>0.169463</td>\n",
              "      <td>0.043951</td>\n",
              "    </tr>\n",
              "    <tr>\n",
              "      <th>FanOut</th>\n",
              "      <td>0.243964</td>\n",
              "      <td>0.142802</td>\n",
              "    </tr>\n",
              "    <tr>\n",
              "      <th>RFC</th>\n",
              "      <td>0.059865</td>\n",
              "      <td>-0.016734</td>\n",
              "    </tr>\n",
              "    <tr>\n",
              "      <th>DIT</th>\n",
              "      <td>0.079976</td>\n",
              "      <td>0.314440</td>\n",
              "    </tr>\n",
              "    <tr>\n",
              "      <th>WMC</th>\n",
              "      <td>0.203131</td>\n",
              "      <td>-0.009809</td>\n",
              "    </tr>\n",
              "    <tr>\n",
              "      <th>LOC</th>\n",
              "      <td>0.285650</td>\n",
              "      <td>-0.128883</td>\n",
              "    </tr>\n",
              "    <tr>\n",
              "      <th>CLOC</th>\n",
              "      <td>0.071360</td>\n",
              "      <td>0.059036</td>\n",
              "    </tr>\n",
              "  </tbody>\n",
              "</table>\n",
              "</div>"
            ],
            "text/plain": [
              "             CDR        TD\n",
              "NOC     0.160786 -0.235805\n",
              "CBO     0.171285 -0.116862\n",
              "LCOM   -0.145200 -0.018478\n",
              "FanIn   0.169463  0.043951\n",
              "FanOut  0.243964  0.142802\n",
              "RFC     0.059865 -0.016734\n",
              "DIT     0.079976  0.314440\n",
              "WMC     0.203131 -0.009809\n",
              "LOC     0.285650 -0.128883\n",
              "CLOC    0.071360  0.059036"
            ]
          },
          "metadata": {
            "tags": []
          },
          "execution_count": 11
        }
      ]
    },
    {
      "cell_type": "markdown",
      "metadata": {
        "id": "1eDgeyyDspha"
      },
      "source": [
        "# Part2 (ML Modelling)\n"
      ]
    },
    {
      "cell_type": "markdown",
      "metadata": {
        "id": "CTKM7k5dyw5k"
      },
      "source": [
        "\n",
        "We are going to use 5 different ML Regression Models to predict Technical Debt values:\n",
        "\n",
        ">Linear Regression\n",
        "\n",
        ">Support Vector Regression\n",
        "\n",
        ">Decision Tree Regression\n",
        "\n",
        ">Random Forest Tree Regression\n",
        "\n",
        ">Multi-layer Perceptron\n",
        "\n",
        "70% of our data will be used as training set and 30% as test set. Training and test sets will be randomly. The “random_state” variable will have a fixed value so that all models get the same random data. In this way, we will be able to evaluate the success rate of the different models objectively.\n"
      ]
    },
    {
      "cell_type": "code",
      "metadata": {
        "id": "Fsc013bjERRa"
      },
      "source": [
        "from sklearn.linear_model import LinearRegression\n",
        "from sklearn.metrics import mean_squared_error, mean_absolute_error\n",
        "from sklearn.svm import SVR\n",
        "from sklearn.tree import DecisionTreeRegressor\n",
        "from sklearn.ensemble import RandomForestRegressor\n",
        "from sklearn.neural_network import MLPRegressor\n",
        "from sklearn.neighbors import NearestCentroid\n",
        "\n",
        "random_state_fixed=53\n",
        "\n",
        "#This function plots graphs to improve visual confirmation\n",
        "def plotGraph(y_test,y_pred,regressorName):\n",
        "    #Plot the Scatter Graph to see results better\n",
        "    xaxis = list(range(len(y_test)))\n",
        "    plt.scatter(xaxis, y_test)\n",
        "    plt.scatter(xaxis, y_pred)\n",
        "    plt.title(regressorName)\n",
        "    plt.legend(['true', 'predictions'])\n",
        "    plt.show()\n",
        "\n",
        "def evaluate(pred, true):\n",
        "    mse = mean_squared_error(pred, true)\n",
        "    mabse = mean_absolute_error(pred, true)\n",
        "    print(\"The Mean Squared Error is \",mse)\n",
        "    print(\"The Mean Absolute Error is \", mabse)\n",
        "\n",
        "#Linear Regressor is one of the best choice for the data that is correlated linearly:\n",
        "\n",
        "def linearRegression(X_train,y_train,X_test,y_test):\n",
        "    # Create the regressor: reg_all\n",
        "    model = LinearRegression()\n",
        "    model.fit(X_train, y_train)\n",
        "    predictions = model.predict(X_test)\n",
        "\n",
        "    evaluate(predictions, y_test)\n",
        "    plotGraph(y_test, predictions, \"Linear Regression\")\n",
        "\n",
        "\n",
        "#SVR is also one of the most common regressor that used for regression predictions\n",
        "def svrRegression(X_train,y_train,X_test,y_test):\n",
        "    model = SVR()\n",
        "    model.fit(X_train, y_train)\n",
        "    predictions = model.predict(X_test)\n",
        "\n",
        "    evaluate(predictions, y_test)\n",
        "    plotGraph(y_test, predictions, \"SVR\")\n",
        "\n",
        "\n",
        "def decisionTreeRegression(X_train,y_train,X_test,y_test):\n",
        "    model = DecisionTreeRegressor()\n",
        "    model.fit(X_train, y_train)\n",
        "    predictions = model.predict(X_test)\n",
        "\n",
        "    evaluate(predictions, y_test)\n",
        "    plotGraph(y_test, predictions, \"Decision Tree Regressor\")\n",
        "\n",
        "\n",
        "def randomDecTreeRegression(X_train,y_train,X_test,y_test):\n",
        "    model = RandomForestRegressor()\n",
        "    model.fit(X_train, y_train)\n",
        "    predictions = model.predict(X_test)\n",
        "\n",
        "    evaluate(predictions, y_test)\n",
        "    plotGraph(y_test, predictions, \"Random dec Tree regressor\")\n",
        "\n",
        "\n",
        "#Multi-layer Perceptron regressor: 'This model optimizes the squared-loss using LBFGS or stochastic gradient descent.'\n",
        "def mlpRegressor(X_train,y_train,X_test,y_test):\n",
        "    model = MLPRegressor()\n",
        "    model.fit(X_train, y_train)\n",
        "    predictions = model.predict(X_test)\n",
        "\n",
        "    evaluate(predictions, y_test)\n",
        "    plotGraph(y_test, predictions, \"MLP Regressor\")\n"
      ],
      "execution_count": 12,
      "outputs": []
    },
    {
      "cell_type": "markdown",
      "metadata": {
        "id": "Nh_HAD5YziE1"
      },
      "source": [
        "In this step (step 3), we will try to estimate Technical Debt using internal metrics."
      ]
    },
    {
      "cell_type": "code",
      "metadata": {
        "id": "Y5dIRQyL3-rM"
      },
      "source": [
        "#split data into train and test data\n",
        "datax = int_metrics\n",
        "datay = td_metrics['TD']\n",
        "trainx, testx, trainy, testy = train_test_split(datax, datay, test_size=0.3, shuffle=True, random_state=random_state_fixed)"
      ],
      "execution_count": 13,
      "outputs": []
    },
    {
      "cell_type": "code",
      "metadata": {
        "id": "ikhp_b2m3-pQ",
        "colab": {
          "base_uri": "https://localhost:8080/",
          "height": 315
        },
        "outputId": "ab659cb6-0a73-4012-ff3c-b60d252bac6c"
      },
      "source": [
        "#Model for Linear Regression (show also R-Squared Value and Root Mean Squared Error )\n",
        "linearRegression(trainx, trainy, testx, testy)"
      ],
      "execution_count": 14,
      "outputs": [
        {
          "output_type": "stream",
          "text": [
            "The Mean Squared Error is  0.07025896527425132\n",
            "The Mean Absolute Error is  0.1822938905102131\n"
          ],
          "name": "stdout"
        },
        {
          "output_type": "display_data",
          "data": {
            "image/png": "[encoded data removed]",
            "text/plain": [
              "<Figure size 432x288 with 1 Axes>"
            ]
          },
          "metadata": {
            "tags": [],
            "needs_background": "light"
          }
        }
      ]
    },
    {
      "cell_type": "code",
      "metadata": {
        "id": "oioKCTWg3-li",
        "colab": {
          "base_uri": "https://localhost:8080/",
          "height": 315
        },
        "outputId": "065edbe2-a66e-469e-aa6b-a5c979c86e39"
      },
      "source": [
        "#Model for SVR Regression (show also R-Squared Value and Root Mean Squared Error )\n",
        "svrRegression(trainx, trainy, testx, testy)"
      ],
      "execution_count": 15,
      "outputs": [
        {
          "output_type": "stream",
          "text": [
            "The Mean Squared Error is  0.0644859003136405\n",
            "The Mean Absolute Error is  0.18212448775636264\n"
          ],
          "name": "stdout"
        },
        {
          "output_type": "display_data",
          "data": {
            "image/png": "[encoded data removed]",
            "text/plain": [
              "<Figure size 432x288 with 1 Axes>"
            ]
          },
          "metadata": {
            "tags": [],
            "needs_background": "light"
          }
        }
      ]
    },
    {
      "cell_type": "code",
      "metadata": {
        "id": "uRbMn_Pg3-jd",
        "colab": {
          "base_uri": "https://localhost:8080/",
          "height": 315
        },
        "outputId": "b64c1765-b8f9-4107-82ef-0eb9e35041c1"
      },
      "source": [
        "#Model for Decision Tree Regression (show also R-Squared Value and Root Mean Squared Error )\n",
        "decisionTreeRegression(trainx, trainy, testx, testy)"
      ],
      "execution_count": 16,
      "outputs": [
        {
          "output_type": "stream",
          "text": [
            "The Mean Squared Error is  0.09088058765564815\n",
            "The Mean Absolute Error is  0.18688524590163938\n"
          ],
          "name": "stdout"
        },
        {
          "output_type": "display_data",
          "data": {
            "image/png": "[encoded data removed]",
            "text/plain": [
              "<Figure size 432x288 with 1 Axes>"
            ]
          },
          "metadata": {
            "tags": [],
            "needs_background": "light"
          }
        }
      ]
    },
    {
      "cell_type": "code",
      "metadata": {
        "id": "QVghCZXp3-hy",
        "colab": {
          "base_uri": "https://localhost:8080/",
          "height": 315
        },
        "outputId": "f706ee9e-6bdb-452c-e264-2459a5c3e338"
      },
      "source": [
        "#Model for Random Decision Tree Regression (show also R-Squared Value and Root Mean Squared Error )\n",
        "randomDecTreeRegression(trainx, trainy, testx, testy)"
      ],
      "execution_count": 17,
      "outputs": [
        {
          "output_type": "stream",
          "text": [
            "The Mean Squared Error is  0.06568802382871987\n",
            "The Mean Absolute Error is  0.15885245901639344\n"
          ],
          "name": "stdout"
        },
        {
          "output_type": "display_data",
          "data": {
            "image/png": "[encoded data removed]",
            "text/plain": [
              "<Figure size 432x288 with 1 Axes>"
            ]
          },
          "metadata": {
            "tags": [],
            "needs_background": "light"
          }
        }
      ]
    },
    {
      "cell_type": "code",
      "metadata": {
        "id": "R_n5bX1h3-gM",
        "colab": {
          "base_uri": "https://localhost:8080/",
          "height": 315
        },
        "outputId": "5f5bf67c-d84a-4fd2-e493-2c685a88bd1a"
      },
      "source": [
        "#Model for Multi-layer Perceptron Regressor (show also R-Squared Value and Root Mean Squared Error )\n",
        "mlpRegressor(trainx, trainy, testx, testy)"
      ],
      "execution_count": 18,
      "outputs": [
        {
          "output_type": "stream",
          "text": [
            "The Mean Squared Error is  0.07479005785224217\n",
            "The Mean Absolute Error is  0.18933759959239843\n"
          ],
          "name": "stdout"
        },
        {
          "output_type": "display_data",
          "data": {
            "image/png": "[encoded data removed]",
            "text/plain": [
              "<Figure size 432x288 with 1 Axes>"
            ]
          },
          "metadata": {
            "tags": [],
            "needs_background": "light"
          }
        }
      ]
    },
    {
      "cell_type": "markdown",
      "metadata": {
        "id": "2vknvYIuziE3"
      },
      "source": [
        "In this step (step 4), we will try to estimate Technical Debt using external metrics."
      ]
    },
    {
      "cell_type": "code",
      "metadata": {
        "id": "I_pAG-JAulEh"
      },
      "source": [
        "#split data into train and test data\n",
        "datax = ext_metrics\n",
        "datay = td_metrics['TD']\n",
        "trainx, testx, trainy, testy = train_test_split(datax, datay, test_size=0.3, shuffle=True, random_state=random_state_fixed)"
      ],
      "execution_count": 19,
      "outputs": []
    },
    {
      "cell_type": "code",
      "metadata": {
        "colab": {
          "base_uri": "https://localhost:8080/",
          "height": 315
        },
        "id": "fIC5OJy3ulEv",
        "outputId": "bf262795-b7d3-4425-815b-b700e9e85d4f"
      },
      "source": [
        "#Model for Linear Regression (show also R-Squared Value and Root Mean Squared Error )\n",
        "linearRegression(trainx, trainy, testx, testy)"
      ],
      "execution_count": 20,
      "outputs": [
        {
          "output_type": "stream",
          "text": [
            "The Mean Squared Error is  0.0858442680937875\n",
            "The Mean Absolute Error is  0.21024512874557544\n"
          ],
          "name": "stdout"
        },
        {
          "output_type": "display_data",
          "data": {
            "image/png": "[encoded data removed]",
            "text/plain": [
              "<Figure size 432x288 with 1 Axes>"
            ]
          },
          "metadata": {
            "tags": [],
            "needs_background": "light"
          }
        }
      ]
    },
    {
      "cell_type": "code",
      "metadata": {
        "colab": {
          "base_uri": "https://localhost:8080/",
          "height": 315
        },
        "id": "QHgo3SpWulEw",
        "outputId": "79e28bdd-f3b7-47e9-daa7-807ebf0ed479"
      },
      "source": [
        "#Model for SVR Regression (show also R-Squared Value and Root Mean Squared Error )\n",
        "svrRegression(trainx, trainy, testx, testy)"
      ],
      "execution_count": 21,
      "outputs": [
        {
          "output_type": "stream",
          "text": [
            "The Mean Squared Error is  0.08702143250439488\n",
            "The Mean Absolute Error is  0.21800190284693058\n"
          ],
          "name": "stdout"
        },
        {
          "output_type": "display_data",
          "data": {
            "image/png": "[encoded data removed]",
            "text/plain": [
              "<Figure size 432x288 with 1 Axes>"
            ]
          },
          "metadata": {
            "tags": [],
            "needs_background": "light"
          }
        }
      ]
    },
    {
      "cell_type": "code",
      "metadata": {
        "colab": {
          "base_uri": "https://localhost:8080/",
          "height": 315
        },
        "id": "a45NO3ptulEx",
        "outputId": "907a7b08-bdd2-45a5-d7ef-87bd7302b866"
      },
      "source": [
        "#Model for Decision Tree Regression (show also R-Squared Value and Root Mean Squared Error )\n",
        "decisionTreeRegression(trainx, trainy, testx, testy)"
      ],
      "execution_count": 22,
      "outputs": [
        {
          "output_type": "stream",
          "text": [
            "The Mean Squared Error is  0.109316491982442\n",
            "The Mean Absolute Error is  0.24153005464480876\n"
          ],
          "name": "stdout"
        },
        {
          "output_type": "display_data",
          "data": {
            "image/png": "[encoded data removed]",
            "text/plain": [
              "<Figure size 432x288 with 1 Axes>"
            ]
          },
          "metadata": {
            "tags": [],
            "needs_background": "light"
          }
        }
      ]
    },
    {
      "cell_type": "code",
      "metadata": {
        "colab": {
          "base_uri": "https://localhost:8080/",
          "height": 315
        },
        "id": "9gHrGUqnulEx",
        "outputId": "6e633a02-383b-485e-cfdd-ed0a2f9699bf"
      },
      "source": [
        "#Model for Random Decision Tree Regression (show also R-Squared Value and Root Mean Squared Error )\n",
        "randomDecTreeRegression(trainx, trainy, testx, testy)"
      ],
      "execution_count": 23,
      "outputs": [
        {
          "output_type": "stream",
          "text": [
            "The Mean Squared Error is  0.07049642078966227\n",
            "The Mean Absolute Error is  0.17237704918032784\n"
          ],
          "name": "stdout"
        },
        {
          "output_type": "display_data",
          "data": {
            "image/png": "[encoded data removed]",
            "text/plain": [
              "<Figure size 432x288 with 1 Axes>"
            ]
          },
          "metadata": {
            "tags": [],
            "needs_background": "light"
          }
        }
      ]
    },
    {
      "cell_type": "code",
      "metadata": {
        "colab": {
          "base_uri": "https://localhost:8080/",
          "height": 315
        },
        "id": "WXaIMnBUulEx",
        "outputId": "3cde3da0-b227-4443-9655-9e4df8326cb4"
      },
      "source": [
        "#Model for Multi-layer Perceptron Regressor (show also R-Squared Value and Root Mean Squared Error )\n",
        "mlpRegressor(trainx, trainy, testx, testy)"
      ],
      "execution_count": 24,
      "outputs": [
        {
          "output_type": "stream",
          "text": [
            "The Mean Squared Error is  0.07082747523012775\n",
            "The Mean Absolute Error is  0.1939776215332561\n"
          ],
          "name": "stdout"
        },
        {
          "output_type": "display_data",
          "data": {
            "image/png": "[encoded data removed]",
            "text/plain": [
              "<Figure size 432x288 with 1 Axes>"
            ]
          },
          "metadata": {
            "tags": [],
            "needs_background": "light"
          }
        }
      ]
    },
    {
      "cell_type": "markdown",
      "metadata": {
        "id": "VFtnLsHJqAWM"
      },
      "source": [
        "In this step 5, we will try to estimate Technical Debt using all internal and external metrics."
      ]
    },
    {
      "cell_type": "code",
      "metadata": {
        "id": "mOqkaLh0uwKS"
      },
      "source": [
        "#split data into train and test data\n",
        "datax = all_metrics[['NOB', 'V', 'SH', 'CS', 'NOC', 'CBO', 'RFC', 'LOC', 'CLOC', 'FanIn', 'FanOut', 'LCOM', 'WMC', 'DIT']]\n",
        "datay = td_metrics['TD']\n",
        "trainx, testx, trainy, testy = train_test_split(datax, datay, test_size=0.3, shuffle=True, random_state=random_state_fixed)"
      ],
      "execution_count": 25,
      "outputs": []
    },
    {
      "cell_type": "code",
      "metadata": {
        "colab": {
          "base_uri": "https://localhost:8080/",
          "height": 315
        },
        "id": "sTq4Mwe8uwKf",
        "outputId": "ca8e842b-9946-4954-d2ac-3b4dfa1d1341"
      },
      "source": [
        "#Model for Linear Regression (show also R-Squared Value and Root Mean Squared Error )\n",
        "linearRegression(trainx, trainy, testx, testy)"
      ],
      "execution_count": 26,
      "outputs": [
        {
          "output_type": "stream",
          "text": [
            "The Mean Squared Error is  0.060116102000001496\n",
            "The Mean Absolute Error is  0.17268847150928365\n"
          ],
          "name": "stdout"
        },
        {
          "output_type": "display_data",
          "data": {
            "image/png": "[encoded data removed]",
            "text/plain": [
              "<Figure size 432x288 with 1 Axes>"
            ]
          },
          "metadata": {
            "tags": [],
            "needs_background": "light"
          }
        }
      ]
    },
    {
      "cell_type": "code",
      "metadata": {
        "colab": {
          "base_uri": "https://localhost:8080/",
          "height": 315
        },
        "id": "_KXAtbWquwKg",
        "outputId": "b5fa1abe-0593-4fb7-f694-7234a49e6726"
      },
      "source": [
        "#Model for SVR Regression (show also R-Squared Value and Root Mean Squared Error )\n",
        "svrRegression(trainx, trainy, testx, testy)"
      ],
      "execution_count": 27,
      "outputs": [
        {
          "output_type": "stream",
          "text": [
            "The Mean Squared Error is  0.0657211578639546\n",
            "The Mean Absolute Error is  0.18303925279676955\n"
          ],
          "name": "stdout"
        },
        {
          "output_type": "display_data",
          "data": {
            "image/png": "[encoded data removed]",
            "text/plain": [
              "<Figure size 432x288 with 1 Axes>"
            ]
          },
          "metadata": {
            "tags": [],
            "needs_background": "light"
          }
        }
      ]
    },
    {
      "cell_type": "code",
      "metadata": {
        "colab": {
          "base_uri": "https://localhost:8080/",
          "height": 315
        },
        "id": "Dbcm0AOUuwKg",
        "outputId": "0f4b799c-12a8-4cc8-fdc7-327c6e2feb57"
      },
      "source": [
        "#Model for Decision Tree Regression (show also R-Squared Value and Root Mean Squared Error )\n",
        "decisionTreeRegression(trainx, trainy, testx, testy)"
      ],
      "execution_count": 28,
      "outputs": [
        {
          "output_type": "stream",
          "text": [
            "The Mean Squared Error is  0.049807399444593746\n",
            "The Mean Absolute Error is  0.17377049180327866\n"
          ],
          "name": "stdout"
        },
        {
          "output_type": "display_data",
          "data": {
            "image/png": "[encoded data removed]",
            "text/plain": [
              "<Figure size 432x288 with 1 Axes>"
            ]
          },
          "metadata": {
            "tags": [],
            "needs_background": "light"
          }
        }
      ]
    },
    {
      "cell_type": "code",
      "metadata": {
        "colab": {
          "base_uri": "https://localhost:8080/",
          "height": 315
        },
        "id": "xwfXyzuxuwKh",
        "outputId": "b747dba3-f192-400e-b7b6-a5128d151489"
      },
      "source": [
        "#Model for Random Decision Tree Regression (show also R-Squared Value and Root Mean Squared Error )\n",
        "randomDecTreeRegression(trainx, trainy, testx, testy)"
      ],
      "execution_count": 29,
      "outputs": [
        {
          "output_type": "stream",
          "text": [
            "The Mean Squared Error is  0.05625680551822987\n",
            "The Mean Absolute Error is  0.14832786885245902\n"
          ],
          "name": "stdout"
        },
        {
          "output_type": "display_data",
          "data": {
            "image/png": "[encoded data removed]",
            "text/plain": [
              "<Figure size 432x288 with 1 Axes>"
            ]
          },
          "metadata": {
            "tags": [],
            "needs_background": "light"
          }
        }
      ]
    },
    {
      "cell_type": "code",
      "metadata": {
        "colab": {
          "base_uri": "https://localhost:8080/",
          "height": 315
        },
        "id": "vjrR6U0SuwKh",
        "outputId": "6f389095-81e0-4e8d-fee3-42f900154553"
      },
      "source": [
        "#Model for Multi-layer Perceptron Regressor (show also R-Squared Value and Root Mean Squared Error )\n",
        "mlpRegressor(trainx, trainy, testx, testy)"
      ],
      "execution_count": 30,
      "outputs": [
        {
          "output_type": "stream",
          "text": [
            "The Mean Squared Error is  0.08682627667986093\n",
            "The Mean Absolute Error is  0.18625914783154449\n"
          ],
          "name": "stdout"
        },
        {
          "output_type": "display_data",
          "data": {
            "image/png": "[encoded data removed]",
            "text/plain": [
              "<Figure size 432x288 with 1 Axes>"
            ]
          },
          "metadata": {
            "tags": [],
            "needs_background": "light"
          }
        }
      ]
    }
  ]
}